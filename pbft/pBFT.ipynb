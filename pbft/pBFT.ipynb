{
 "cells": [
  {
   "cell_type": "code",
   "execution_count": 8,
   "id": "4e253461-9b64-4451-8a88-4ba7e00c4c17",
   "metadata": {},
   "outputs": [
    {
     "name": "stdout",
     "output_type": "stream",
     "text": [
      "Defaulting to user installation because normal site-packages is not writeable\n",
      "Requirement already satisfied: grpcio in d:\\apps\\anaconda\\envs\\pbft_env\\lib\\site-packages (1.70.0)\n",
      "Requirement already satisfied: grpcio-tools in d:\\apps\\anaconda\\envs\\pbft_env\\lib\\site-packages (1.48.2)\n",
      "Requirement already satisfied: protobuf<4.0dev,>=3.12.0 in d:\\apps\\anaconda\\envs\\pbft_env\\lib\\site-packages (from grpcio-tools) (3.20.3)\n",
      "Requirement already satisfied: setuptools in d:\\apps\\anaconda\\envs\\pbft_env\\lib\\site-packages (from grpcio-tools) (75.8.0)\n"
     ]
    }
   ],
   "source": [
    "!pip install grpcio grpcio-tools"
   ]
  },
  {
   "cell_type": "code",
   "execution_count": 9,
   "id": "fb2a1d22-4251-4383-9572-cc7d37074b14",
   "metadata": {},
   "outputs": [],
   "source": [
    "import sqlite3\n",
    "\n",
    "class PBFTDatabase:\n",
    "    def __init__(self, db_name=\"pbft.db\"):\n",
    "        self.conn = sqlite3.connect(db_name, check_same_thread=False)\n",
    "        self.cursor = self.conn.cursor()\n",
    "        self.create_table()\n",
    "\n",
    "    def create_table(self):\n",
    "        self.cursor.execute(\"\"\"\n",
    "        CREATE TABLE IF NOT EXISTS blockchain (\n",
    "            id INTEGER PRIMARY KEY AUTOINCREMENT,\n",
    "            block_hash TEXT UNIQUE,\n",
    "            timestamp TIMESTAMP DEFAULT CURRENT_TIMESTAMP\n",
    "        )\"\"\")\n",
    "        self.conn.commit()\n",
    "\n",
    "    def add_block(self, block_hash):\n",
    "        self.cursor.execute(\"INSERT OR IGNORE INTO blockchain (block_hash) VALUES (?)\", (block_hash,))\n",
    "        self.conn.commit()\n",
    "\n",
    "    def get_blocks(self):\n",
    "        self.cursor.execute(\"SELECT * FROM blockchain\")\n",
    "        return self.cursor.fetchall()"
   ]
  },
  {
   "cell_type": "code",
   "execution_count": 10,
   "id": "f1211285-dfad-4370-89fc-b4135cd631a7",
   "metadata": {},
   "outputs": [
    {
     "name": "stdout",
     "output_type": "stream",
     "text": [
      "Writing pbft.proto\n"
     ]
    }
   ],
   "source": [
    "%%writefile pbft.proto\n",
    "syntax = \"proto3\";\n",
    "\n",
    "service PBFTService {\n",
    "    rpc PrePrepare (Message) returns (Response);\n",
    "    rpc Prepare (Message) returns (Response);\n",
    "    rpc Commit (Message) returns (Response);\n",
    "}\n",
    "\n",
    "message Message {\n",
    "    string sender = 1;\n",
    "    string block_hash = 2;\n",
    "}\n",
    "\n",
    "message Response {\n",
    "    bool success = 1;\n",
    "}"
   ]
  },
  {
   "cell_type": "code",
   "execution_count": 11,
   "id": "375eeb9f-5d83-44b8-94f7-33bcf3566063",
   "metadata": {},
   "outputs": [],
   "source": [
    "import grpc\n",
    "from concurrent import futures\n",
    "import pbft_pb2\n",
    "import pbft_pb2_grpc\n",
    "import hashlib\n",
    "import time\n",
    "\n",
    "class PBFTNode(pbft_pb2_grpc.PBFTServiceServicer):\n",
    "    def __init__(self, id, peers, is_primary=False):\n",
    "        self.id = id\n",
    "        self.peers = peers\n",
    "        self.is_primary = is_primary\n",
    "        self.blockchain = PBFTDatabase()\n",
    "        self.messages = {\"prepare\": [], \"commit\": []} \n",
    "\n",
    "    def hash_block(self, block_data):\n",
    "        return hashlib.sha256(block_data.encode()).hexdigest()\n",
    "\n",
    "    def PrePrepare(self, request, context):\n",
    "        print(f\"[{self.id}] receive PrePrepare from {request.sender} with hash {request.block_hash}\")\n",
    "        \n",
    "        for peer in self.peers:\n",
    "            with grpc.insecure_channel(peer) as channel:\n",
    "                stub = pbft_pb2_grpc.PBFTServiceStub(channel)\n",
    "                response = stub.Prepare(pbft_pb2.Message(sender=self.id, block_hash=request.block_hash))\n",
    "                if response.success:\n",
    "                    self.messages[\"prepare\"].append(request.block_hash)\n",
    "        \n",
    "        return pbft_pb2.Response(success=True)\n",
    "\n",
    "    def Prepare(self, request, context):\n",
    "        print(f\"[{self.id}] receive Prepare from {request.sender} w hash {request.block_hash}\")\n",
    "        self.messages[\"prepare\"].append(request.block_hash)\n",
    "\n",
    "        if self.messages[\"prepare\"].count(request.block_hash) >= 2:\n",
    "            for peer in self.peers:\n",
    "                with grpc.insecure_channel(peer) as channel:\n",
    "                    stub = pbft_pb2_grpc.PBFTServiceStub(channel)\n",
    "                    response = stub.Commit(pbft_pb2.Message(sender=self.id, block_hash=request.block_hash))\n",
    "                    if response.success:\n",
    "                        self.messages[\"commit\"].append(request.block_hash)\n",
    "\n",
    "        return pbft_pb2.Response(success=True)\n",
    "\n",
    "    def Commit(self, request, context):\n",
    "        print(f\"[{self.id}] receive Commit from {request.sender} with hash {request.block_hash}\")\n",
    "        self.messages[\"commit\"].append(request.block_hash)\n",
    "\n",
    "        if self.messages[\"commit\"].count(request.block_hash) >= 2:\n",
    "            self.blockchain.add_block(request.block_hash)\n",
    "            print(f\"[{self.id}] Block {request.block_hash} commited to database!\")\n",
    "\n",
    "        return pbft_pb2.Response(success=True)\n",
    "\n",
    "def serve(port, node_id, peers, is_primary=False, node_class=PBFTNode):\n",
    "    server = grpc.server(futures.ThreadPoolExecutor(max_workers=10))\n",
    "    node = node_class(node_id, peers, is_primary)  # Đảm bảo `node_class` là một class hợp lệ\n",
    "    pbft_pb2_grpc.add_PBFTServiceServicer_to_server(node, server)\n",
    "    server.add_insecure_port(f\"[::]:{port}\")\n",
    "    server.start()\n",
    "    print(f\"[Node {node_id}] Running on port {port}\")\n",
    "    server.wait_for_termination()"
   ]
  },
  {
   "cell_type": "code",
   "execution_count": 12,
   "id": "3f79803c-8ca6-4008-8ab9-85b809c10870",
   "metadata": {},
   "outputs": [],
   "source": [
    "import threading\n",
    "\n",
    "def run_node(node_id, port, peers, node_class=PBFTNode, is_primary=False):\n",
    "    threading.Thread(target=serve, args=(port, node_id, peers, is_primary, node_class)).start()\n",
    "\n",
    "peers = [\"localhost:5001\", \"localhost:5002\", \"localhost:5003\"]"
   ]
  },
  {
   "cell_type": "code",
   "execution_count": 13,
   "id": "c27269cb-2d3d-4126-8c54-896bee27ebf2",
   "metadata": {},
   "outputs": [
    {
     "name": "stdout",
     "output_type": "stream",
     "text": [
      "[Node 2] Running on port 5002\n",
      "[Node 0] Running on port 5000\n",
      "[Node 3] Running on port 5003\n",
      "[Node 1] Running on port 5001\n",
      "[0] receive PrePrepare from 0 with hash 66d225fd4e3627cc562515a824b31dec0224ad918dd0169be41759a84467c632\n",
      "[1] receive Prepare from 0 w hash 66d225fd4e3627cc562515a824b31dec0224ad918dd0169be41759a84467c632\n",
      "[2] receive Prepare from 0 w hash 66d225fd4e3627cc562515a824b31dec0224ad918dd0169be41759a84467c632\n",
      "[3] receive Prepare from 0 w hash 66d225fd4e3627cc562515a824b31dec0224ad918dd0169be41759a84467c632\n",
      "[0] receive PrePrepare from 0 with hash 66d225fd4e3627cc562515a824b31dec0224ad918dd0169be41759a84467c632\n",
      "[1] receive Prepare from 0 w hash 66d225fd4e3627cc562515a824b31dec0224ad918dd0169be41759a84467c632\n",
      "[1] receive Commit from 1 with hash 66d225fd4e3627cc562515a824b31dec0224ad918dd0169be41759a84467c632\n",
      "[2] receive Commit from 1 with hash 66d225fd4e3627cc562515a824b31dec0224ad918dd0169be41759a84467c632\n",
      "[3] receive Commit from 1 with hash 66d225fd4e3627cc562515a824b31dec0224ad918dd0169be41759a84467c632\n",
      "[2] receive Prepare from 0 w hash 66d225fd4e3627cc562515a824b31dec0224ad918dd0169be41759a84467c632\n",
      "[1] receive Commit from 2 with hash 66d225fd4e3627cc562515a824b31dec0224ad918dd0169be41759a84467c632\n",
      "[1] Block 66d225fd4e3627cc562515a824b31dec0224ad918dd0169be41759a84467c632 commited to database!\n",
      "[2] receive Commit from 2 with hash 66d225fd4e3627cc562515a824b31dec0224ad918dd0169be41759a84467c632\n",
      "[2] Block 66d225fd4e3627cc562515a824b31dec0224ad918dd0169be41759a84467c632 commited to database!\n",
      "[3] receive Commit from 2 with hash 66d225fd4e3627cc562515a824b31dec0224ad918dd0169be41759a84467c632\n",
      "[3] Block 66d225fd4e3627cc562515a824b31dec0224ad918dd0169be41759a84467c632 commited to database!\n",
      "[3] receive Prepare from 0 w hash 66d225fd4e3627cc562515a824b31dec0224ad918dd0169be41759a84467c632\n",
      "[1] receive Commit from 3 with hash 66d225fd4e3627cc562515a824b31dec0224ad918dd0169be41759a84467c632\n",
      "[1] Block 66d225fd4e3627cc562515a824b31dec0224ad918dd0169be41759a84467c632 commited to database!\n",
      "[2] receive Commit from 3 with hash 66d225fd4e3627cc562515a824b31dec0224ad918dd0169be41759a84467c632\n",
      "[2] Block 66d225fd4e3627cc562515a824b31dec0224ad918dd0169be41759a84467c632 commited to database!\n",
      "[3] receive Commit from 3 with hash 66d225fd4e3627cc562515a824b31dec0224ad918dd0169be41759a84467c632\n",
      "[3] Block 66d225fd4e3627cc562515a824b31dec0224ad918dd0169be41759a84467c632 commited to database!\n"
     ]
    }
   ],
   "source": [
    "#Chạy trường hợp bình thường - không lỗi\n",
    "run_node(\"0\", 5000, peers)  \n",
    "run_node(\"1\", 5001, peers)\n",
    "run_node(\"2\", 5002, peers)\n",
    "run_node(\"3\", 5003, peers)"
   ]
  },
  {
   "cell_type": "code",
   "execution_count": 15,
   "id": "78623b7f-38b2-4535-bf9f-7fb67e2c7b5d",
   "metadata": {},
   "outputs": [
    {
     "name": "stdout",
     "output_type": "stream",
     "text": [
      "sent block with hash 66d225fd4e3627cc562515a824b31dec0224ad918dd0169be41759a84467c632 from Primary\n"
     ]
    }
   ],
   "source": [
    "import grpc\n",
    "import pbft_pb2\n",
    "import pbft_pb2_grpc\n",
    "import hashlib\n",
    "\n",
    "def hash_block(data):\n",
    "    return hashlib.sha256(data.encode()).hexdigest()\n",
    "\n",
    "primary_host = \"localhost:5000\" \n",
    "block_data = \"Block 1: transaction ABC\"\n",
    "block_hash = hash_block(block_data)\n",
    "\n",
    "with grpc.insecure_channel(primary_host) as channel:\n",
    "    stub = pbft_pb2_grpc.PBFTServiceStub(channel)\n",
    "    response = stub.PrePrepare(pbft_pb2.Message(sender=\"0\", block_hash=block_hash))\n",
    "\n",
    "print(f\"sent block with hash {block_hash} from Primary\")"
   ]
  },
  {
   "cell_type": "code",
   "execution_count": 11,
   "id": "70f76692-7cdb-4fae-898d-5b264a29eae6",
   "metadata": {},
   "outputs": [
    {
     "name": "stdout",
     "output_type": "stream",
     "text": [
      "sent block with hash 80df87ddabdbb259b6e6af18a8af5079e47fc921b43d9b67ad57b8038d789fcb from Primary!\n"
     ]
    }
   ],
   "source": [
    "import grpc\n",
    "import pbft_pb2\n",
    "import pbft_pb2_grpc\n",
    "import hashlib\n",
    "\n",
    "def hash_block(data):\n",
    "    return hashlib.sha256(data.encode()).hexdigest()\n",
    "\n",
    "primary_host = \"localhost:5000\"\n",
    "block_data = \"Block 2: transaction XYZ\"\n",
    "block_hash = hash_block(block_data)\n",
    "\n",
    "with grpc.insecure_channel(primary_host) as channel:\n",
    "    stub = pbft_pb2_grpc.PBFTServiceStub(channel)\n",
    "    response = stub.PrePrepare(pbft_pb2.Message(sender=\"0\", block_hash=block_hash))\n",
    "\n",
    "print(f\"sent block with hash {block_hash} from Primary\")"
   ]
  },
  {
   "cell_type": "code",
   "execution_count": 4,
   "id": "d17cfc9d-fae0-4113-a6b6-17302b5f633c",
   "metadata": {},
   "outputs": [],
   "source": [
    "#Mô phòng trường hợp lỗi : Node chính bị crash\n",
    "class PBFTNodePrimaryCrash(PBFTNode):\n",
    "    def PrePrepare(self, request, context):\n",
    "        print(f\"[Node {self.id}] Primary node crashed, no response\")\n",
    "        return pbft_pb2.Response(success=False)"
   ]
  },
  {
   "cell_type": "code",
   "execution_count": 5,
   "id": "08ed3208-4410-4601-a4a5-e177871c5bd6",
   "metadata": {},
   "outputs": [],
   "source": [
    "#Mô phòng trường hợp : Byzantine node - gửi dữ liệu sai\n",
    "class PBFTNodeByzantine(PBFTNode):\n",
    "    def PrePrepare(self, request, context):\n",
    "        print(f\"[Node {self.id}] sending incorrect block hash (byzantine fault)\")\n",
    "        wrong_hash = self.hash_block(\"fake dataa\")\n",
    "        return pbft_pb2.Response(success=False)"
   ]
  },
  {
   "cell_type": "code",
   "execution_count": 6,
   "id": "cae6c745-e5c4-4a5f-a094-00ad97a87866",
   "metadata": {},
   "outputs": [],
   "source": [
    "#Mô phòng trường hợp : mạng có vấn đề: mất gói hoặc delay\n",
    "import random\n",
    "\n",
    "class PBFTNodeNetworkDelay(PBFTNode):\n",
    "    def Prepare(self, request, context):\n",
    "        if random.random() < 0.5:\n",
    "            print(f\"[Node {self.id}] dropping message due to network delay\")\n",
    "            return pbft_pb2.Response(success=False)\n",
    "        return super().Prepare(request, context)\n",
    "\n",
    "    def Commit(self, request, context):\n",
    "        if random.random() < 0.5:\n",
    "            print(f\"[Node {self.id}] delayed commit message (network delay)\")\n",
    "            return pbft_pb2.Response(success=False)\n",
    "        return super().Commit(request, context)"
   ]
  },
  {
   "cell_type": "code",
   "execution_count": 13,
   "id": "7eca0344-c93b-4ca0-aa3f-d5b7382d63c7",
   "metadata": {},
   "outputs": [],
   "source": [
    "#Mô phòng trường hợp : nhiều lỗi byzantine - f > n/3\n",
    "class PBFTNodeTooManyFaults(PBFTNode):\n",
    "    def Commit(self, request, context):\n",
    "        print(f\"[Node {self.id}] too many byzantine faults ==> commit rejected\")\n",
    "        return pbft_pb2.Response(success=False)"
   ]
  },
  {
   "cell_type": "code",
   "execution_count": 7,
   "id": "cc2640fb-49c0-480f-a9ab-3e3b540da838",
   "metadata": {},
   "outputs": [],
   "source": [
    "# run_node(\"0\", 5000, peers, node_class=PBFTNodePrimaryCrash)  # Primary Crash\n",
    "# run_node(\"2\", 5002, peers, node_class=PBFTNodeByzantine)  # Byzantine Node\n",
    "# run_node(\"1\", 5001, peers, node_class=PBFTNodeNetworkDelay)  # Network Delay\n",
    "# run_node(\"3\", 5003, peers, node_class=PBFTNodeTooManyFaults)  # Too many faults"
   ]
  },
  {
   "cell_type": "code",
   "execution_count": 8,
   "id": "49c7bfe4-32d3-4514-9c71-0a8166775cd8",
   "metadata": {},
   "outputs": [
    {
     "name": "stdout",
     "output_type": "stream",
     "text": [
      "[Node 0] Running on port 5000\n",
      "[Node 0] Primary node crashed, no response\n",
      "[Node 0] Primary node crashed, no response\n"
     ]
    }
   ],
   "source": [
    "run_node(\"0\", 5000, peers, node_class=PBFTNodePrimaryCrash)  "
   ]
  },
  {
   "cell_type": "code",
   "execution_count": 9,
   "id": "7b88c952-e658-46cc-9f0a-6e7485a24af4",
   "metadata": {},
   "outputs": [
    {
     "name": "stdout",
     "output_type": "stream",
     "text": [
      "[Node 1] Running on port 5001\n",
      "[Node 3] Running on port 5003\n",
      "[Node 2] Running on port 5002\n"
     ]
    }
   ],
   "source": [
    "run_node(\"1\", 5001, peers)\n",
    "run_node(\"2\", 5002, peers)\n",
    "run_node(\"3\", 5003, peers)"
   ]
  }
 ],
 "metadata": {
  "kernelspec": {
   "display_name": "Python 3 (ipykernel)",
   "language": "python",
   "name": "python3"
  },
  "language_info": {
   "codemirror_mode": {
    "name": "ipython",
    "version": 3
   },
   "file_extension": ".py",
   "mimetype": "text/x-python",
   "name": "python",
   "nbconvert_exporter": "python",
   "pygments_lexer": "ipython3",
   "version": "3.10.16"
  }
 },
 "nbformat": 4,
 "nbformat_minor": 5
}
